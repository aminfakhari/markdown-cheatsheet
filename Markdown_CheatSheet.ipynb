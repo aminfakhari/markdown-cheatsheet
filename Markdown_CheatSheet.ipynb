{
 "cells": [
  {
   "cell_type": "markdown",
   "id": "e2ec20d9",
   "metadata": {},
   "source": [
    "# Markdown Cheat Sheet\n",
    "\n",
    "This Markdown cheat sheet provides a quick overview of all the Markdown syntax elements. It can’t cover every edge case, so if you need more information about any of these elements, refer to the reference guides for [basic syntax](https://www.markdownguide.org/basic-syntax/) and [extended syntax](https://www.markdownguide.org/extended-syntax/)."
   ]
  },
  {
   "cell_type": "markdown",
   "id": "974b1662",
   "metadata": {},
   "source": [
    "### Heading:\n",
    "\n",
    "# Heading level 1\n",
    "## Heading level 2\n",
    "### Heading level 3\n",
    "#### Heading level 4\n",
    "##### Heading level 5\n",
    "###### Heading level 6"
   ]
  },
  {
   "cell_type": "markdown",
   "id": "88ea1f02",
   "metadata": {},
   "source": [
    "### Bold:\n",
    "\n",
    "**bold text**"
   ]
  },
  {
   "cell_type": "markdown",
   "id": "70630bea",
   "metadata": {},
   "source": [
    "### Italic:\n",
    "\n",
    "*italicized text*"
   ]
  },
  {
   "cell_type": "markdown",
   "id": "caa0da4a",
   "metadata": {},
   "source": [
    "### Blockquote:\n",
    "\n",
    "> blockquote"
   ]
  },
  {
   "cell_type": "markdown",
   "id": "8feac593",
   "metadata": {},
   "source": [
    "### Ordered List:\n",
    "\n",
    "1. First item\n",
    "2. Second item\n",
    "3. Third item"
   ]
  },
  {
   "cell_type": "markdown",
   "id": "373ab195",
   "metadata": {},
   "source": [
    "### Unordered List:\n",
    "\n",
    "- First item\n",
    "- Second item\n",
    "- Third item"
   ]
  },
  {
   "cell_type": "markdown",
   "id": "15ac007c",
   "metadata": {},
   "source": [
    "You can nest an unordered list in an ordered list, or vice versa.\n",
    "1. First item\n",
    "2. Second item\n",
    "3. Third item\n",
    "   - Indented item\n",
    "   - Indented item\n",
    "4. Fourth item"
   ]
  },
  {
   "cell_type": "markdown",
   "id": "2fc39c61",
   "metadata": {},
   "source": [
    "### Code:\n",
    "\n",
    "`code`"
   ]
  },
  {
   "cell_type": "markdown",
   "id": "0f8a7492",
   "metadata": {},
   "source": [
    "### Horizontal Rule:\n",
    "\n",
    "---"
   ]
  },
  {
   "cell_type": "markdown",
   "id": "28a6b415",
   "metadata": {},
   "source": [
    "### Link:\n",
    "\n",
    "[Markdown Guide](https://www.markdownguide.org)"
   ]
  },
  {
   "cell_type": "markdown",
   "id": "c2d55f63",
   "metadata": {},
   "source": [
    "### Image:\n",
    "\n",
    "From a URL:\n",
    "\n",
    "![alt text](https://www.markdownguide.org/assets/images/tux.png)\n",
    "\n",
    "From a folder next to .md file:\n",
    "\n",
    "![alt text](Figures/my_image.png)"
   ]
  },
  {
   "cell_type": "markdown",
   "id": "64f584ea",
   "metadata": {},
   "source": [
    "### Line Breaks:\n",
    "\n",
    "To create a line break, end a line with two or more spaces.  \n",
    "Next line."
   ]
  },
  {
   "cell_type": "markdown",
   "id": "b1c72784",
   "metadata": {},
   "source": [
    "## Extended Syntax:\n",
    "\n",
    "These elements extend the basic syntax by adding additional features. Not all Markdown applications support these elements."
   ]
  },
  {
   "cell_type": "markdown",
   "id": "d1294691",
   "metadata": {},
   "source": [
    "### Table:\n",
    "\n",
    "| Syntax | Description |\n",
    "| ----------- | ----------- |\n",
    "| Header | Title |\n",
    "| Paragraph | Text |"
   ]
  },
  {
   "cell_type": "markdown",
   "id": "4fe01486",
   "metadata": {},
   "source": [
    "### Fenced Code Block:\n",
    "\n",
    "```\n",
    "{\n",
    "  \"firstName\": \"John\",\n",
    "  \"lastName\": \"Smith\",\n",
    "  \"age\": 25\n",
    "}\n",
    "```"
   ]
  },
  {
   "cell_type": "markdown",
   "id": "8edee5d3",
   "metadata": {},
   "source": [
    "### Footnote:\n",
    "\n",
    "Here's a sentence with a footnote. [^1]\n",
    "\n",
    "[^1]: This is the footnote."
   ]
  },
  {
   "cell_type": "markdown",
   "id": "9c161ca3",
   "metadata": {},
   "source": [
    "### Strikethrough:\n",
    "\n",
    "~~The world is flat.~~"
   ]
  },
  {
   "cell_type": "markdown",
   "id": "47c7fc95",
   "metadata": {},
   "source": [
    "### Task List:\n",
    "\n",
    "- [x] Write the press release\n",
    "- [ ] Update the website\n",
    "- [ ] Contact the media"
   ]
  },
  {
   "cell_type": "markdown",
   "id": "c4be932a",
   "metadata": {},
   "source": [
    "### Highlight:\n",
    "\n",
    "I need to highlight these ==very important words==."
   ]
  },
  {
   "cell_type": "markdown",
   "id": "3e03e0f2",
   "metadata": {},
   "source": [
    "### Subscript:\n",
    "\n",
    "H~2~O"
   ]
  },
  {
   "cell_type": "markdown",
   "id": "f41def16",
   "metadata": {},
   "source": [
    "### Superscript:\n",
    "\n",
    "X^2^"
   ]
  },
  {
   "cell_type": "markdown",
   "id": "2837e41d",
   "metadata": {},
   "source": [
    "### LaTeX Formulas:\n",
    "\n",
    "Euler's identity: $e^{i\\pi} + 1 = 0$\n",
    "\n",
    "Or for block math:\n",
    "$$\n",
    "\\int_{-\\infty}^\\infty e^{-x^2} dx = \\sqrt{\\pi}\n",
    "$$"
   ]
  }
 ],
 "metadata": {
  "language_info": {
   "name": "python"
  }
 },
 "nbformat": 4,
 "nbformat_minor": 5
}
